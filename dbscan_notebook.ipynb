{
 "cells": [
  {
   "cell_type": "code",
   "execution_count": 1,
   "metadata": {},
   "outputs": [],
   "source": [
    "import pandas as pd\n",
    "import seaborn as sns\n",
    "\n",
    "import random\n",
    "\n",
    "import numpy as np\n",
    "import matplotlib.pyplot as plt\n",
    "import matplotlib.colors as clrs\n",
    "import matplotlib.cbook as cbook\n",
    "\n",
    "from DBScan import DBScan"
   ]
  },
  {
   "cell_type": "code",
   "execution_count": 2,
   "metadata": {},
   "outputs": [
    {
     "data": {
      "text/html": [
       "<div>\n",
       "<style scoped>\n",
       "    .dataframe tbody tr th:only-of-type {\n",
       "        vertical-align: middle;\n",
       "    }\n",
       "\n",
       "    .dataframe tbody tr th {\n",
       "        vertical-align: top;\n",
       "    }\n",
       "\n",
       "    .dataframe thead th {\n",
       "        text-align: right;\n",
       "    }\n",
       "</style>\n",
       "<table border=\"1\" class=\"dataframe\">\n",
       "  <thead>\n",
       "    <tr style=\"text-align: right;\">\n",
       "      <th></th>\n",
       "      <th>county</th>\n",
       "      <th>cases</th>\n",
       "      <th>deaths</th>\n",
       "    </tr>\n",
       "  </thead>\n",
       "  <tbody>\n",
       "    <tr>\n",
       "      <th>7182</th>\n",
       "      <td>Contra Costa</td>\n",
       "      <td>61</td>\n",
       "      <td>1</td>\n",
       "    </tr>\n",
       "    <tr>\n",
       "      <th>42260</th>\n",
       "      <td>Suffolk</td>\n",
       "      <td>15844</td>\n",
       "      <td>328</td>\n",
       "    </tr>\n",
       "    <tr>\n",
       "      <th>39850</th>\n",
       "      <td>Columbiana</td>\n",
       "      <td>59</td>\n",
       "      <td>5</td>\n",
       "    </tr>\n",
       "    <tr>\n",
       "      <th>10937</th>\n",
       "      <td>Alameda</td>\n",
       "      <td>156</td>\n",
       "      <td>2</td>\n",
       "    </tr>\n",
       "    <tr>\n",
       "      <th>18188</th>\n",
       "      <td>McHenry</td>\n",
       "      <td>52</td>\n",
       "      <td>2</td>\n",
       "    </tr>\n",
       "    <tr>\n",
       "      <th>...</th>\n",
       "      <td>...</td>\n",
       "      <td>...</td>\n",
       "      <td>...</td>\n",
       "    </tr>\n",
       "    <tr>\n",
       "      <th>35964</th>\n",
       "      <td>New Haven</td>\n",
       "      <td>1468</td>\n",
       "      <td>41</td>\n",
       "    </tr>\n",
       "    <tr>\n",
       "      <th>31824</th>\n",
       "      <td>Bristol</td>\n",
       "      <td>601</td>\n",
       "      <td>5</td>\n",
       "    </tr>\n",
       "    <tr>\n",
       "      <th>11718</th>\n",
       "      <td>Ocean</td>\n",
       "      <td>222</td>\n",
       "      <td>5</td>\n",
       "    </tr>\n",
       "    <tr>\n",
       "      <th>25282</th>\n",
       "      <td>Erie</td>\n",
       "      <td>553</td>\n",
       "      <td>12</td>\n",
       "    </tr>\n",
       "    <tr>\n",
       "      <th>27183</th>\n",
       "      <td>Macomb</td>\n",
       "      <td>1332</td>\n",
       "      <td>58</td>\n",
       "    </tr>\n",
       "  </tbody>\n",
       "</table>\n",
       "<p>500 rows × 3 columns</p>\n",
       "</div>"
      ],
      "text/plain": [
       "             county  cases  deaths\n",
       "7182   Contra Costa     61       1\n",
       "42260       Suffolk  15844     328\n",
       "39850    Columbiana     59       5\n",
       "10937       Alameda    156       2\n",
       "18188       McHenry     52       2\n",
       "...             ...    ...     ...\n",
       "35964     New Haven   1468      41\n",
       "31824       Bristol    601       5\n",
       "11718         Ocean    222       5\n",
       "25282          Erie    553      12\n",
       "27183        Macomb   1332      58\n",
       "\n",
       "[500 rows x 3 columns]"
      ]
     },
     "execution_count": 2,
     "metadata": {},
     "output_type": "execute_result"
    }
   ],
   "source": [
    "conjunto = pd.read_csv('dataset_processado.csv')\n",
    "conjunto = conjunto.drop_duplicates(subset=['cases' , 'deaths'])\n",
    "conjunto.sample(n=500)"
   ]
  },
  {
   "cell_type": "code",
   "execution_count": 3,
   "metadata": {},
   "outputs": [
    {
     "name": "stdout",
     "output_type": "stream",
     "text": [
      "3563\n",
      "(3563,)\n",
      "(3563,)\n"
     ]
    }
   ],
   "source": [
    "N = len(conjunto)\n",
    "x = conjunto.cases.values\n",
    "y = conjunto.deaths.values\n",
    "\n",
    "print(N)\n",
    "print(x.shape)\n",
    "print(y.shape)"
   ]
  },
  {
   "cell_type": "code",
   "execution_count": 4,
   "metadata": {},
   "outputs": [],
   "source": [
    "coordenadas = [ [ x[i] , y[i] ] for i in range(len(x)) ]\n",
    "conjunto['points'] = coordenadas"
   ]
  },
  {
   "cell_type": "code",
   "execution_count": 5,
   "metadata": {},
   "outputs": [
    {
     "data": {
      "text/plain": [
       "3563"
      ]
     },
     "execution_count": 5,
     "metadata": {},
     "output_type": "execute_result"
    }
   ],
   "source": [
    "len(conjunto['points'])"
   ]
  },
  {
   "cell_type": "code",
   "execution_count": 6,
   "metadata": {},
   "outputs": [],
   "source": [
    "db_scan = DBScan(coordenadas)\n",
    "labels = db_scan.make_clusters( min_points=2, eps=5)"
   ]
  },
  {
   "cell_type": "code",
   "execution_count": 7,
   "metadata": {},
   "outputs": [],
   "source": [
    "coords = coordenadas"
   ]
  },
  {
   "cell_type": "code",
   "execution_count": 8,
   "metadata": {},
   "outputs": [
    {
     "data": {
      "image/png": "[encoded data removed]",
      "text/plain": [
       "<Figure size 720x360 with 1 Axes>"
      ]
     },
     "metadata": {
      "needs_background": "light"
     },
     "output_type": "display_data"
    }
   ],
   "source": [
    "fig, ax = plt.subplots(figsize=( 10, 5 ))\n",
    "\n",
    "for coordenada in conjunto['points']:\n",
    "    x_c, y_c = coordenada\n",
    "    plt.plot(x_c, y_c, 'o', color='black')\n",
    "\n",
    "plt.show()"
   ]
  },
  {
   "cell_type": "code",
   "execution_count": 17,
   "metadata": {},
   "outputs": [],
   "source": [
    "less1 = []\n",
    "zero1 = []\n",
    "one1  = []\n",
    "for i in range( len(coords) ):\n",
    "    x_c, y_c = coords[i]\n",
    "    if (labels[i] == -1):\n",
    "        less1.append([x_c, y_c])\n",
    "    elif (labels[i] == 0):\n",
    "        zero1.append([x_c, y_c])\n",
    "    else:\n",
    "        one1.append([x_c, y_c])\n",
    "        "
   ]
  },
  {
   "cell_type": "code",
   "execution_count": 18,
   "metadata": {},
   "outputs": [
    {
     "data": {
      "image/png": "[encoded data removed]",
      "text/plain": [
       "<Figure size 720x360 with 1 Axes>"
      ]
     },
     "metadata": {
      "needs_background": "light"
     },
     "output_type": "display_data"
    }
   ],
   "source": [
    "fig, ax = plt.subplots(figsize=( 10, 5 ))\n",
    "[ plt.plot(c[0], c[1], 'o', color='red') for c in zero1 ]\n",
    "[ plt.plot(c[0], c[1], 'o', color='blue') for c in one1 ]\n",
    "[ plt.plot(c[0], c[1], 'o', color='black') for c in less1 ]\n",
    "\n",
    "plt.show()"
   ]
  },
  {
   "cell_type": "code",
   "execution_count": 11,
   "metadata": {},
   "outputs": [],
   "source": [
    "from sklearn.cluster import DBSCAN\n",
    "clustering = DBSCAN(eps=5, min_samples=2).fit( list(conjunto['points']) )\n",
    "c_labels = clustering.labels_"
   ]
  },
  {
   "cell_type": "code",
   "execution_count": 21,
   "metadata": {},
   "outputs": [],
   "source": [
    "less2 = []\n",
    "zero2 = []\n",
    "one2  = []\n",
    "for i in range( len(coords) ):\n",
    "    x_c, y_c = coords[i]\n",
    "    if (c_labels[i] == -1):\n",
    "        less2.append([x_c, y_c])\n",
    "    elif (c_labels[i] == 0):\n",
    "        zero2.append([x_c, y_c])\n",
    "    else:\n",
    "        one2.append([x_c, y_c])\n",
    "        "
   ]
  },
  {
   "cell_type": "code",
   "execution_count": 22,
   "metadata": {},
   "outputs": [
    {
     "data": {
      "image/png": "[encoded data removed]",
      "text/plain": [
       "<Figure size 720x360 with 1 Axes>"
      ]
     },
     "metadata": {
      "needs_background": "light"
     },
     "output_type": "display_data"
    }
   ],
   "source": [
    "fig, ax = plt.subplots(figsize=( 10, 5 ))\n",
    "[ plt.plot(c[0], c[1], 'o', color='black') for c in less2 ]\n",
    "[ plt.plot(c[0], c[1], 'o', color='blue') for c in one2 ]\n",
    "[ plt.plot(c[0], c[1], 'o', color='red') for c in zero2 ]\n",
    "\n",
    "plt.show()"
   ]
  }
 ],
 "metadata": {
  "kernelspec": {
   "display_name": "Python 3",
   "language": "python",
   "name": "python3"
  },
  "language_info": {
   "codemirror_mode": {
    "name": "ipython",
    "version": 3
   },
   "file_extension": ".py",
   "mimetype": "text/x-python",
   "name": "python",
   "nbconvert_exporter": "python",
   "pygments_lexer": "ipython3",
   "version": "3.9.2"
  }
 },
 "nbformat": 4,
 "nbformat_minor": 4
}
